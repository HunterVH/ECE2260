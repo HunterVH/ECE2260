{
 "cells": [
  {
   "cell_type": "markdown",
   "metadata": {},
   "source": [
    "# Subwoofer Network {-}"
   ]
  },
  {
   "cell_type": "markdown",
   "metadata": {},
   "source": [
    "## Transfer Function {-}"
   ]
  },
  {
   "cell_type": "markdown",
   "metadata": {},
   "source": [
    "$$\\frac{V_a-V_g}{Ls}+\\frac{V_a}{\\frac{1}{Cs}}+\\frac{V_a}{R} = 0$$  \n",
    "$$\\frac{V_g}{Ls} = V_a\\left(\\frac{1}{Ls}+Cs+\\frac{1}{R}\\right)$$  \n",
    "$$V_a = V_g\\frac{1}{Ls\\left(\\frac{1}{Ls}+Cs+\\frac{1}{R}\\right)}$$  \n",
    "$$V_a = V_g\\frac{1}{1+LCs^2+\\frac{L}{R}s}$$  \n",
    "$$V_a = V_g\\frac{\\frac{1}{LC}}{s^2+\\frac{1}{RC}s+\\frac{1}{LC}}$$  \n",
    "$$H(s) = \\frac{\\frac{1}{LC}}{s^2+\\frac{1}{RC}s+\\frac{1}{LC}}$$  \n",
    "$$C=50\\mu F \\qquad R=8\\Omega \\qquad L=1mH$$  \n",
    "$$\\frac{1}{RC} = 2500 \\qquad \\frac{1}{LC} = 20000000$$  \n",
    "$$H(s)=\\frac{20000000}{s^2+2500s+20000000}$$  "
   ]
  },
  {
   "cell_type": "markdown",
   "metadata": {},
   "source": [
    "## Reverse Laplace"
   ]
  },
  {
   "cell_type": "markdown",
   "metadata": {},
   "source": [
    "$$H(s) = \\frac{20000000}{(s+1250+j4293.891009)(s+1250-j4293.891009)} = \\frac{K_1}{s+1250+j4293.891009}+\\frac{K_2}{s+1250-j4293.891009}$$  \n",
    "$$K_1=\\left.\\frac{20000000}{s+1250-j4293.891009}\\right\\rvert_{s=-1250-j4293.891009} = 2328.890039\\angle 90$$  \n",
    "$$K_2 = \\left.\\frac{20000000}{s+1250+j4293.891009}\\right\\rvert_{s=-1250+j4293.891009}=2328.890039\\angle -90$$  \n",
    "$$H(s) = \\frac{2328.890039\\angle 90}{s+1250+j4293.891009}+\\frac{2328.890039\\angle -90}{s+1250-j4293.891009}$$  \n",
    "$$h(t) = 4657.780078e^{-1250t}cos(4293.891009t-90)$$  "
   ]
  },
  {
   "cell_type": "markdown",
   "metadata": {},
   "source": [
    "# Tweeter Network {-}"
   ]
  },
  {
   "cell_type": "markdown",
   "metadata": {},
   "source": [
    "## Transfer Function {-}"
   ]
  },
  {
   "cell_type": "markdown",
   "metadata": {},
   "source": [
    "$$\\frac{V_a-V_g}{\\frac{1}{Cs}}+\\frac{V_a}{Ls}+\\frac{V_a}{R} = 0$$  \n",
    "$$V_gCs = V_a\\left(Cs+\\frac{1}{Ls}+\\frac{1}{R}\\right)$$  \n",
    "$$V_a = \\frac{V_gCs}{Cs+\\frac{1}{Ls}+\\frac{1}{R}}$$  \n",
    "$$V_a = \\frac{V_gCs^2}{Cs^2+\\frac{1}{R}s+\\frac{1}{L}}$$  \n",
    "$$V_a = V_g \\frac{s^2}{s^2+\\frac{1}{CR}s+\\frac{1}{LC}}$$    \n",
    "$$H(s) = \\frac{s^2}{s^2+\\frac{1}{CR}s+\\frac{1}{LC}}$$  \n",
    "$$ C = 5\\mu F \\qquad R = 8\\Omega \\qquad L = 1mH $$  \n",
    "$$ \\frac{1}{CR} = 25000 \\qquad \\frac{1}{LC} = 200000000 $$  \n",
    "$$H(s) = \\frac{s^2}{s^2+25000s+200000000}$$  "
   ]
  },
  {
   "cell_type": "markdown",
   "metadata": {},
   "source": [
    "## Reverse Laplace {-}"
   ]
  },
  {
   "cell_type": "markdown",
   "metadata": {},
   "source": [
    "$$H(s) = \\frac{s^2}{(s+12500+j6614.378278)(s+12500-j6614.378278)} = \\frac{K_1}{s+12500+j6614.378278}+\\frac{K_2}{s+12500-j6614.378278}$$ \n",
    "$$K_1 = \\left.\\frac{s^2}{s+12500-j6614.378278}\\right\\rvert_{s=-12500-j6614.378278} = 15118.57892\\angle 145.771$$ \n",
    "$$K_2 = \\left.\\frac{s^2}{s+12500+j6614.378278}\\right\\rvert_{s=-12500+j6614.378278} = 15118.57892\\angle -145.771$$  \n",
    "$$H(s) = \\frac{15118.57892\\angle 145.771}{s+12500+j6614.378278}+\\frac{15118.57892\\angle -145.771}{s+12500-j6614.378278}$$  \n",
    "$$h(t) = 30237.15784e^{-12500}cos(6614.378278t-145.771)$$  "
   ]
  },
  {
   "cell_type": "markdown",
   "metadata": {},
   "source": [
    "| Expected | Measured |\n",
    "| --- | --- |\n",
    "| $47\\mu F$ | $52.3\\mu F$ |\n",
    "| $4.7 \\mu F$ | $4.57\\mu F$ |\n",
    "| $8\\Omega$ | $7.15\\Omega$ |\n",
    "| $1mH$ | $0.994mH$ |"
   ]
  },
  {
   "cell_type": "markdown",
   "metadata": {},
   "source": [
    "Subwoofer Network:  \n",
    "Start Freq - 305Hz  \n",
    "Stop Freq - 14905Hz\n",
    "\n",
    "Tweeter Network:  \n",
    "Start Freq - 290Hz  \n",
    "Stop Freq - 16650Hz"
   ]
  },
  {
   "cell_type": "markdown",
   "metadata": {},
   "source": [
    "Tweeter Network Values:  \n",
    "$f \\in [100Hz, 35kHz]$\n",
    "| Freq | $V_o$| Phase |\n",
    "| --- | --- | --- |\n",
    "| 100 | .0273 | 90.5 |\n",
    "| 136 | .0362 | 91 |\n",
    "| 185 | .0466 | 89 |\n",
    "| 252 | .0611 | 91.7 |\n",
    "| 343 | .0780 | 92.4 |\n",
    "| 467 | .0980 | 93.3 |\n",
    "| 635 | .119 | 94.1 |\n",
    "| 866 | .141 | 94 |\n",
    "| 1178 | .161 | 94.5 |\n",
    "| 1604 | .177 | 89 |\n",
    "| 2183 | .205 | 81.2 |\n",
    "| 2971 | .217 | 71.9 |\n",
    "| 4044 | .233 | 60.6 |\n",
    "| 5504 | .257 | 44.2 |\n",
    "| 7492 | .265 | 34.3 |\n",
    "| 10197 | .273 | 26.1 |\n",
    "| 13879 | .281 | 18.3 |\n",
    "| 18892 | .297 | 13.1 |\n",
    "| 25714 | .314 | 10.6 |\n",
    "| 35000 | .338 | 7.5 |\n"
   ]
  },
  {
   "cell_type": "markdown",
   "metadata": {},
   "source": [
    "Subwoofer Network Values:  \n",
    "$f \\in [100Hz, 35kHz]$\n",
    "| Frequency | V_o | Phase |\n",
    "| --- | --- | --- |\n",
    "| 100 | .362 | -1.5 |\n",
    "| 136 | .334 | -2.8 |\n",
    "| 185 | .310 | -5.6 |\n",
    "| 252 | .261 | -23.3 |\n",
    "| 343 | .229 | -31 |\n",
    "| 467 | .197 | -39 |\n",
    "| 636 | .165 | -50.2 |\n",
    "| 866 | .157 | -3 |\n",
    "| 1178 | .129 | -4.3 |\n",
    "| 1604 | .109 | -6.6 |\n",
    "| 2182 | .092 | -5.4 |\n",
    "| 2971 | .08 | -4.7 |\n",
    "| 4044 | .0713 | -5 |\n",
    "| 5504 | .066 | -3 |\n",
    "| 7492 | .0625 | -4 |\n",
    "| 10197 | .061 | -4 |\n",
    "| 13879 | .0595 | -4 |\n",
    "| 18892 | .0577 | -6 |\n",
    "| 25714 | .0578 | -8 |\n",
    "| 35000 | .057 | -6 |"
   ]
  },
  {
   "cell_type": "code",
   "execution_count": 1,
   "metadata": {},
   "outputs": [
    {
     "name": "stdout",
     "output_type": "stream",
     "text": [
      "[  100.           136.11259631   185.26638875   252.17089183\n",
      "   343.23634802   467.18790478   635.90158686   865.54215987\n",
      "  1178.11190599  1603.55870273  2182.6453837   2970.85530008\n",
      "  4043.70828166  5503.99632953  7491.63230514 10197.05523682\n",
      " 13879.47663039 18891.7159964  25714.00513094 35000.        ]\n"
     ]
    }
   ],
   "source": [
    "import numpy as np\n",
    "\n",
    "print(f'{np.geomspace(100,35000,20)}')"
   ]
  }
 ],
 "metadata": {
  "kernelspec": {
   "display_name": "ECE",
   "language": "python",
   "name": "python3"
  },
  "language_info": {
   "codemirror_mode": {
    "name": "ipython",
    "version": 3
   },
   "file_extension": ".py",
   "mimetype": "text/x-python",
   "name": "python",
   "nbconvert_exporter": "python",
   "pygments_lexer": "ipython3",
   "version": "3.10.16"
  }
 },
 "nbformat": 4,
 "nbformat_minor": 2
}
