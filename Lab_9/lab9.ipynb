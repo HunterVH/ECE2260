{
 "cells": [
  {
   "cell_type": "markdown",
   "metadata": {},
   "source": [
    "| Expected | Measured |\n",
    "| --- | --- |\n",
    "| $47\\mu F$ | $52.3\\mu F$ |\n",
    "| $4.7 \\mu F$ | $4.57\\mu F$ |\n",
    "| $8\\Omega$ | $7.15\\Omega$ |\n",
    "| $1mH$ | $0.994mH$ |"
   ]
  },
  {
   "cell_type": "markdown",
   "metadata": {},
   "source": [
    "Subwoofer Network:  \n",
    "Start Freq - 305Hz  \n",
    "Stop Freq - 14905Hz\n",
    "\n",
    "Tweeter Network:  \n",
    "Start Freq - 290Hz  \n",
    "Stop Freq - 16650Hz"
   ]
  },
  {
   "cell_type": "markdown",
   "metadata": {},
   "source": [
    "Tweeter Network Values:  \n",
    "$f \\in [100Hz, 35kHz]$\n",
    "| Freq | $V_o$| Phase |\n",
    "| --- | --- | --- |\n",
    "| 100 | .0273 | 90.5 |\n",
    "| 136 | .0362 | 91 |\n",
    "| 185 | .0466 | 89 |\n",
    "| 252 | .0611 | 91.7 |\n",
    "| 343 | .0780 | 92.4 |\n",
    "| 467 | .0980 | 93.3 |\n",
    "| 635 | .119 | 94.1 |\n",
    "| 866 | .141 | 94 |\n",
    "| 1178 | .161 | 94.5 |\n",
    "| 1604 | .177 | 89 |\n",
    "| 2183 | .205 | 81.2 |\n",
    "| 2971 | .217 | 71.9 |\n",
    "| 4044 | .233 | 60.6 |\n",
    "| 5504 | .257 | 44.2 |\n",
    "| 7492 | .265 | 34.3 |\n",
    "| 10197 | .273 | 26.1 |\n",
    "| 13879 | .281 | 18.3 |\n",
    "| 18892 | .297 | 13.1 |\n",
    "| 25714 | .314 | 10.6 |\n",
    "| 35000 | .338 | 7.5 |\n"
   ]
  },
  {
   "cell_type": "markdown",
   "metadata": {},
   "source": [
    "Subwoofer Network Values:  \n",
    "$f \\in [100Hz, 35kHz]$\n",
    "| Frequency | V_o | Phase |\n",
    "| --- | --- | --- |\n",
    "| 100 | .362 | -1.5 |\n",
    "| 136 | .334 | -2.8 |\n",
    "| 185 | .310 | -5.6 |\n",
    "| 252 | .261 | -23.3 |\n",
    "| 343 | .229 | -31 |\n",
    "| 467 | .197 | -39 |\n",
    "| 636 | .165 | -50.2 |\n",
    "| 866 | .157 | -3 |\n",
    "| 1178 | .129 | -4.3 |\n",
    "| 1604 | .109 | -6.6 |\n",
    "| 2182 | .092 | -5.4 |\n",
    "| 2971 | .08 | -4.7 |\n",
    "| 4044 | .0713 | -5 |\n",
    "| 5504 | .066 | -3 |\n",
    "| 7492 | .0625 | -4 |\n",
    "| 10197 | .061 | -4 |\n",
    "| 13879 | .0595 | -4 |\n",
    "| 18892 | .0577 | -6 |\n",
    "| 25714 | .0578 | -8 |\n",
    "| 35000 | .057 | -6 |"
   ]
  },
  {
   "cell_type": "code",
   "execution_count": 1,
   "metadata": {},
   "outputs": [
    {
     "name": "stdout",
     "output_type": "stream",
     "text": [
      "[  100.           136.11259631   185.26638875   252.17089183\n",
      "   343.23634802   467.18790478   635.90158686   865.54215987\n",
      "  1178.11190599  1603.55870273  2182.6453837   2970.85530008\n",
      "  4043.70828166  5503.99632953  7491.63230514 10197.05523682\n",
      " 13879.47663039 18891.7159964  25714.00513094 35000.        ]\n"
     ]
    }
   ],
   "source": [
    "import numpy as np\n",
    "\n",
    "print(f'{np.geomspace(100,35000,20)}')"
   ]
  }
 ],
 "metadata": {
  "kernelspec": {
   "display_name": "ECE",
   "language": "python",
   "name": "python3"
  },
  "language_info": {
   "codemirror_mode": {
    "name": "ipython",
    "version": 3
   },
   "file_extension": ".py",
   "mimetype": "text/x-python",
   "name": "python",
   "nbconvert_exporter": "python",
   "pygments_lexer": "ipython3",
   "version": "3.10.16"
  }
 },
 "nbformat": 4,
 "nbformat_minor": 2
}
